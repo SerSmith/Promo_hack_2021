{
 "cells": [
  {
   "cell_type": "code",
   "execution_count": 1,
   "id": "faa61474",
   "metadata": {},
   "outputs": [],
   "source": [
    "import os\n",
    "import pandas as pd\n",
    "import numpy as np\n",
    "from matplotlib import pyplot as plt\n",
    "import seaborn as sns"
   ]
  },
  {
   "cell_type": "code",
   "execution_count": 2,
   "id": "44bfb4ad",
   "metadata": {},
   "outputs": [],
   "source": [
    "DATA_PATH = '/home/azureuser/hack/data'\n",
    "OFFERS_FILE = '20210521_offers.csv'\n",
    "CHECKS_FILE = '20210518_checks.csv'\n",
    "HIERARHY_FILE = '20210518_hierarchy.csv'\n",
    "UPLIFT_FILE = '20210518_uplift.csv'\n",
    "\n",
    "offers_df = pd.read_csv(os.path.join(DATA_PATH, OFFERS_FILE))\n",
    "checks_df = pd.read_csv(os.path.join(DATA_PATH, CHECKS_FILE))\n",
    "hierarhy_df = pd.read_csv(os.path.join(DATA_PATH, HIERARHY_FILE))\n",
    "uplift_df = pd.read_csv(os.path.join(DATA_PATH, UPLIFT_FILE))"
   ]
  },
  {
   "cell_type": "code",
   "execution_count": 3,
   "id": "48c1e1fa",
   "metadata": {},
   "outputs": [],
   "source": [
    "checks_df['day'] = pd.to_datetime(checks_df['day'], format='%Y%m%d')"
   ]
  },
  {
   "cell_type": "code",
   "execution_count": 4,
   "id": "84a62b9e",
   "metadata": {},
   "outputs": [],
   "source": [
    "for col in ['start_date', 'end_date']:\n",
    "    offers_df[col] = pd.to_datetime(offers_df[col], format='%Y%m%d')"
   ]
  },
  {
   "cell_type": "markdown",
   "id": "298b2a73",
   "metadata": {},
   "source": [
    "# Simple descision"
   ]
  },
  {
   "cell_type": "code",
   "execution_count": 5,
   "id": "857fee54",
   "metadata": {},
   "outputs": [
    {
     "data": {
      "text/html": [
       "<div>\n",
       "<style scoped>\n",
       "    .dataframe tbody tr th:only-of-type {\n",
       "        vertical-align: middle;\n",
       "    }\n",
       "\n",
       "    .dataframe tbody tr th {\n",
       "        vertical-align: top;\n",
       "    }\n",
       "\n",
       "    .dataframe thead th {\n",
       "        text-align: right;\n",
       "    }\n",
       "</style>\n",
       "<table border=\"1\" class=\"dataframe\">\n",
       "  <thead>\n",
       "    <tr style=\"text-align: right;\">\n",
       "      <th></th>\n",
       "      <th>Promo_type</th>\n",
       "      <th>Offer_ID</th>\n",
       "      <th>sku</th>\n",
       "      <th>start_date</th>\n",
       "      <th>end_date</th>\n",
       "      <th>train_test_group</th>\n",
       "      <th>UpLift</th>\n",
       "    </tr>\n",
       "  </thead>\n",
       "  <tbody>\n",
       "    <tr>\n",
       "      <th>0</th>\n",
       "      <td>Facades</td>\n",
       "      <td>F26</td>\n",
       "      <td>71c770923102af052f64c6036c9dd590</td>\n",
       "      <td>2020-02-13</td>\n",
       "      <td>2020-02-19</td>\n",
       "      <td>train</td>\n",
       "      <td>0.430811</td>\n",
       "    </tr>\n",
       "    <tr>\n",
       "      <th>1</th>\n",
       "      <td>Facades</td>\n",
       "      <td>F26</td>\n",
       "      <td>b178ad83d2ed46e4ca3b7d6bf3e50baa</td>\n",
       "      <td>2020-02-13</td>\n",
       "      <td>2020-02-19</td>\n",
       "      <td>train</td>\n",
       "      <td>0.430811</td>\n",
       "    </tr>\n",
       "    <tr>\n",
       "      <th>2</th>\n",
       "      <td>Facades</td>\n",
       "      <td>F26</td>\n",
       "      <td>bc169501599f610c529db4962942d80d</td>\n",
       "      <td>2020-02-13</td>\n",
       "      <td>2020-02-19</td>\n",
       "      <td>train</td>\n",
       "      <td>0.430811</td>\n",
       "    </tr>\n",
       "    <tr>\n",
       "      <th>3</th>\n",
       "      <td>Facades</td>\n",
       "      <td>F26</td>\n",
       "      <td>bc5f3166f87117e513a68ba6bad1d2da</td>\n",
       "      <td>2020-02-13</td>\n",
       "      <td>2020-02-19</td>\n",
       "      <td>train</td>\n",
       "      <td>0.430811</td>\n",
       "    </tr>\n",
       "    <tr>\n",
       "      <th>4</th>\n",
       "      <td>Facades</td>\n",
       "      <td>F26</td>\n",
       "      <td>aa4dfbef8de268ea041b073c0b06c460</td>\n",
       "      <td>2020-02-13</td>\n",
       "      <td>2020-02-19</td>\n",
       "      <td>train</td>\n",
       "      <td>0.430811</td>\n",
       "    </tr>\n",
       "  </tbody>\n",
       "</table>\n",
       "</div>"
      ],
      "text/plain": [
       "  Promo_type Offer_ID                               sku start_date   end_date  \\\n",
       "0    Facades      F26  71c770923102af052f64c6036c9dd590 2020-02-13 2020-02-19   \n",
       "1    Facades      F26  b178ad83d2ed46e4ca3b7d6bf3e50baa 2020-02-13 2020-02-19   \n",
       "2    Facades      F26  bc169501599f610c529db4962942d80d 2020-02-13 2020-02-19   \n",
       "3    Facades      F26  bc5f3166f87117e513a68ba6bad1d2da 2020-02-13 2020-02-19   \n",
       "4    Facades      F26  aa4dfbef8de268ea041b073c0b06c460 2020-02-13 2020-02-19   \n",
       "\n",
       "  train_test_group    UpLift  \n",
       "0            train  0.430811  \n",
       "1            train  0.430811  \n",
       "2            train  0.430811  \n",
       "3            train  0.430811  \n",
       "4            train  0.430811  "
      ]
     },
     "execution_count": 5,
     "metadata": {},
     "output_type": "execute_result"
    }
   ],
   "source": [
    "merged_df = offers_df.merge(uplift_df, on='Offer_ID')\n",
    "merged_df.head()"
   ]
  },
  {
   "cell_type": "markdown",
   "id": "e929b242",
   "metadata": {},
   "source": [
    "Аггрегация данных по типу промо-акции и sku"
   ]
  },
  {
   "cell_type": "code",
   "execution_count": 6,
   "id": "d66dfcff",
   "metadata": {},
   "outputs": [],
   "source": [
    "pred_promo = merged_df[['Promo_type', \n",
    "                        'Offer_ID', \n",
    "                        'sku', \n",
    "                        'UpLift']].drop_duplicates().groupby('Promo_type').mean()\n",
    "\n",
    "pred_sku =  merged_df[['Promo_type', \n",
    "                       'Offer_ID', \n",
    "                       'sku', \n",
    "                       'UpLift']].drop_duplicates().groupby('sku').mean()"
   ]
  },
  {
   "cell_type": "markdown",
   "id": "a41611d4",
   "metadata": {},
   "source": [
    "Датасет, для которого необходимо сделать прогноз:"
   ]
  },
  {
   "cell_type": "code",
   "execution_count": 7,
   "id": "19d96799",
   "metadata": {},
   "outputs": [],
   "source": [
    "offers_test = offers_df[offers_df['train_test_group'] == 'test']"
   ]
  },
  {
   "cell_type": "markdown",
   "id": "5dd29417",
   "metadata": {},
   "source": [
    "По ключам 'Promo_type'-'sku', 'Promo_type', 'sku' объединяем датасеты с усреднёнными по трейну значениями UpLift с тестовым датасетом. Получаем прогноз Uplift по этим ключам."
   ]
  },
  {
   "cell_type": "code",
   "execution_count": 8,
   "id": "65bc0770",
   "metadata": {},
   "outputs": [],
   "source": [
    "offers_test1 = offers_test.merge(\n",
    "    merged_df[['Promo_type', 'sku', 'UpLift']], \n",
    "    on=['Promo_type', 'sku'], \n",
    "    how='left').groupby(['Offer_ID', 'Promo_type', 'sku']).mean()"
   ]
  },
  {
   "cell_type": "code",
   "execution_count": 9,
   "id": "a5158d9b",
   "metadata": {},
   "outputs": [
    {
     "data": {
      "text/html": [
       "<div>\n",
       "<style scoped>\n",
       "    .dataframe tbody tr th:only-of-type {\n",
       "        vertical-align: middle;\n",
       "    }\n",
       "\n",
       "    .dataframe tbody tr th {\n",
       "        vertical-align: top;\n",
       "    }\n",
       "\n",
       "    .dataframe thead th {\n",
       "        text-align: right;\n",
       "    }\n",
       "</style>\n",
       "<table border=\"1\" class=\"dataframe\">\n",
       "  <thead>\n",
       "    <tr style=\"text-align: right;\">\n",
       "      <th></th>\n",
       "      <th>Offer_ID</th>\n",
       "      <th>Promo_type</th>\n",
       "      <th>sku</th>\n",
       "      <th>UpLift</th>\n",
       "    </tr>\n",
       "  </thead>\n",
       "  <tbody>\n",
       "    <tr>\n",
       "      <th>0</th>\n",
       "      <td>100</td>\n",
       "      <td>Seasonal</td>\n",
       "      <td>12e3ac7c9bf202d41ec92d747d92a234</td>\n",
       "      <td>NaN</td>\n",
       "    </tr>\n",
       "    <tr>\n",
       "      <th>1</th>\n",
       "      <td>100</td>\n",
       "      <td>Seasonal</td>\n",
       "      <td>228f88c28e3b259103f548e4f7788904</td>\n",
       "      <td>0.785098</td>\n",
       "    </tr>\n",
       "    <tr>\n",
       "      <th>2</th>\n",
       "      <td>100</td>\n",
       "      <td>Seasonal</td>\n",
       "      <td>3e0fb22a7c69510b08869627f6214003</td>\n",
       "      <td>0.785098</td>\n",
       "    </tr>\n",
       "    <tr>\n",
       "      <th>3</th>\n",
       "      <td>100</td>\n",
       "      <td>Seasonal</td>\n",
       "      <td>4d1581a093a0eb7751e1e0f62dcbe278</td>\n",
       "      <td>0.785098</td>\n",
       "    </tr>\n",
       "    <tr>\n",
       "      <th>4</th>\n",
       "      <td>100</td>\n",
       "      <td>Seasonal</td>\n",
       "      <td>752e96b000091940545ce06692bf67c5</td>\n",
       "      <td>0.785098</td>\n",
       "    </tr>\n",
       "  </tbody>\n",
       "</table>\n",
       "</div>"
      ],
      "text/plain": [
       "  Offer_ID Promo_type                               sku    UpLift\n",
       "0      100   Seasonal  12e3ac7c9bf202d41ec92d747d92a234       NaN\n",
       "1      100   Seasonal  228f88c28e3b259103f548e4f7788904  0.785098\n",
       "2      100   Seasonal  3e0fb22a7c69510b08869627f6214003  0.785098\n",
       "3      100   Seasonal  4d1581a093a0eb7751e1e0f62dcbe278  0.785098\n",
       "4      100   Seasonal  752e96b000091940545ce06692bf67c5  0.785098"
      ]
     },
     "execution_count": 9,
     "metadata": {},
     "output_type": "execute_result"
    }
   ],
   "source": [
    "offers_test1.reset_index().head()"
   ]
  },
  {
   "cell_type": "code",
   "execution_count": 10,
   "id": "d096af49",
   "metadata": {},
   "outputs": [
    {
     "data": {
      "text/html": [
       "<div>\n",
       "<style scoped>\n",
       "    .dataframe tbody tr th:only-of-type {\n",
       "        vertical-align: middle;\n",
       "    }\n",
       "\n",
       "    .dataframe tbody tr th {\n",
       "        vertical-align: top;\n",
       "    }\n",
       "\n",
       "    .dataframe thead th {\n",
       "        text-align: right;\n",
       "    }\n",
       "</style>\n",
       "<table border=\"1\" class=\"dataframe\">\n",
       "  <thead>\n",
       "    <tr style=\"text-align: right;\">\n",
       "      <th></th>\n",
       "      <th>Promo_type</th>\n",
       "      <th>UpLift</th>\n",
       "    </tr>\n",
       "  </thead>\n",
       "  <tbody>\n",
       "    <tr>\n",
       "      <th>0</th>\n",
       "      <td>Billboards</td>\n",
       "      <td>3.620010</td>\n",
       "    </tr>\n",
       "    <tr>\n",
       "      <th>1</th>\n",
       "      <td>Biweekly</td>\n",
       "      <td>5.561029</td>\n",
       "    </tr>\n",
       "    <tr>\n",
       "      <th>2</th>\n",
       "      <td>Facades</td>\n",
       "      <td>2.630749</td>\n",
       "    </tr>\n",
       "    <tr>\n",
       "      <th>3</th>\n",
       "      <td>Seasonal</td>\n",
       "      <td>3.708450</td>\n",
       "    </tr>\n",
       "  </tbody>\n",
       "</table>\n",
       "</div>"
      ],
      "text/plain": [
       "   Promo_type    UpLift\n",
       "0  Billboards  3.620010\n",
       "1    Biweekly  5.561029\n",
       "2     Facades  2.630749\n",
       "3    Seasonal  3.708450"
      ]
     },
     "execution_count": 10,
     "metadata": {},
     "output_type": "execute_result"
    }
   ],
   "source": [
    "pred_promo.reset_index().head()"
   ]
  },
  {
   "cell_type": "code",
   "execution_count": 11,
   "id": "938296f3",
   "metadata": {},
   "outputs": [],
   "source": [
    "offers_test2 = offers_test1.reset_index().merge(pred_promo, on=['Promo_type'])"
   ]
  },
  {
   "cell_type": "code",
   "execution_count": 12,
   "id": "829658d9",
   "metadata": {},
   "outputs": [],
   "source": [
    "offers_test3 = offers_test2.merge(\n",
    "    pred_sku.rename(columns={'UpLift': 'UpLift_sku'}),\n",
    "    on='sku',\n",
    "    how='left')"
   ]
  },
  {
   "cell_type": "markdown",
   "id": "bc9a0c57",
   "metadata": {},
   "source": [
    "Рассчитываем геометрическое среднее UpLift по полученным данным"
   ]
  },
  {
   "cell_type": "code",
   "execution_count": 13,
   "id": "472b9862",
   "metadata": {},
   "outputs": [
    {
     "name": "stderr",
     "output_type": "stream",
     "text": [
      "/anaconda/envs/py38_default/lib/python3.8/site-packages/pandas/core/arraylike.py:358: RuntimeWarning: invalid value encountered in sqrt\n",
      "  result = getattr(ufunc, method)(*inputs, **kwargs)\n"
     ]
    }
   ],
   "source": [
    "offers_test3['UpLift'] = \\\n",
    "np.sqrt(offers_test3['UpLift_y'].fillna(1) * offers_test3['UpLift_sku'].fillna(1)).fillna(0)"
   ]
  },
  {
   "cell_type": "markdown",
   "id": "6d629795",
   "metadata": {},
   "source": [
    "Аггрегируем результаты по Offer_ID"
   ]
  },
  {
   "cell_type": "code",
   "execution_count": 14,
   "id": "6ddf55ff",
   "metadata": {},
   "outputs": [],
   "source": [
    "test_results = offers_test3.groupby('Offer_ID').agg({'UpLift': 'mean'})"
   ]
  },
  {
   "cell_type": "markdown",
   "id": "16a3bf30",
   "metadata": {},
   "source": [
    "Готовим сабмит"
   ]
  },
  {
   "cell_type": "code",
   "execution_count": 15,
   "id": "89626ad6",
   "metadata": {},
   "outputs": [],
   "source": [
    "sample_submission = pd.read_csv(\"20210521_sample_submission.csv\")"
   ]
  },
  {
   "cell_type": "code",
   "execution_count": 16,
   "id": "6739038d",
   "metadata": {},
   "outputs": [
    {
     "data": {
      "text/html": [
       "<div>\n",
       "<style scoped>\n",
       "    .dataframe tbody tr th:only-of-type {\n",
       "        vertical-align: middle;\n",
       "    }\n",
       "\n",
       "    .dataframe tbody tr th {\n",
       "        vertical-align: top;\n",
       "    }\n",
       "\n",
       "    .dataframe thead th {\n",
       "        text-align: right;\n",
       "    }\n",
       "</style>\n",
       "<table border=\"1\" class=\"dataframe\">\n",
       "  <thead>\n",
       "    <tr style=\"text-align: right;\">\n",
       "      <th></th>\n",
       "      <th>Offer_ID</th>\n",
       "      <th>UpLift</th>\n",
       "    </tr>\n",
       "  </thead>\n",
       "  <tbody>\n",
       "    <tr>\n",
       "      <th>0</th>\n",
       "      <td>386</td>\n",
       "      <td>8.761159</td>\n",
       "    </tr>\n",
       "    <tr>\n",
       "      <th>1</th>\n",
       "      <td>182</td>\n",
       "      <td>4.719755</td>\n",
       "    </tr>\n",
       "    <tr>\n",
       "      <th>2</th>\n",
       "      <td>173</td>\n",
       "      <td>5.684745</td>\n",
       "    </tr>\n",
       "    <tr>\n",
       "      <th>3</th>\n",
       "      <td>375</td>\n",
       "      <td>4.910266</td>\n",
       "    </tr>\n",
       "    <tr>\n",
       "      <th>4</th>\n",
       "      <td>379</td>\n",
       "      <td>8.606629</td>\n",
       "    </tr>\n",
       "  </tbody>\n",
       "</table>\n",
       "</div>"
      ],
      "text/plain": [
       "  Offer_ID    UpLift\n",
       "0      386  8.761159\n",
       "1      182  4.719755\n",
       "2      173  5.684745\n",
       "3      375  4.910266\n",
       "4      379  8.606629"
      ]
     },
     "execution_count": 16,
     "metadata": {},
     "output_type": "execute_result"
    }
   ],
   "source": [
    "out = sample_submission.drop(columns='UpLift').merge(test_results, on='Offer_ID')\n",
    "out.head()"
   ]
  },
  {
   "cell_type": "code",
   "execution_count": 17,
   "id": "417ef614",
   "metadata": {},
   "outputs": [],
   "source": [
    "out.to_csv('submit_simple_decision.csv', index=False)"
   ]
  }
 ],
 "metadata": {
  "kernelspec": {
   "display_name": "py38_default",
   "language": "python",
   "name": "conda-env-py38_default-py"
  },
  "language_info": {
   "codemirror_mode": {
    "name": "ipython",
    "version": 3
   },
   "file_extension": ".py",
   "mimetype": "text/x-python",
   "name": "python",
   "nbconvert_exporter": "python",
   "pygments_lexer": "ipython3",
   "version": "3.8.8"
  }
 },
 "nbformat": 4,
 "nbformat_minor": 5
}
