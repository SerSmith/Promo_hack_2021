{
 "nbformat": 4,
 "nbformat_minor": 2,
 "metadata": {
  "language_info": {
   "name": "python",
   "codemirror_mode": {
    "name": "ipython",
    "version": 3
   },
   "version": "3.9.4-final"
  },
  "orig_nbformat": 2,
  "file_extension": ".py",
  "mimetype": "text/x-python",
  "name": "python",
  "npconvert_exporter": "python",
  "pygments_lexer": "ipython3",
  "version": 3,
  "kernelspec": {
   "name": "python39464bitpromohack2021venvb94a7c00776145b6bf8260fd5c50cde0",
   "display_name": "Python 3.9.4 64-bit ('Promo_hack_2021': venv)"
  }
 },
 "cells": [
  {
   "cell_type": "code",
   "execution_count": 1,
   "metadata": {},
   "outputs": [],
   "source": [
    "import pandas as pd"
   ]
  },
  {
   "cell_type": "code",
   "execution_count": 2,
   "metadata": {},
   "outputs": [],
   "source": [
    "offers = pd.read_csv(\"data/Lenta hack/20210521_offers.csv\")\n",
    "hierarchy = pd.read_csv(\"data/Lenta hack/20210518_hierarchy.csv\")\n",
    "uplift = pd.read_csv(\"data/Lenta hack/20210518_uplift.csv\")\n",
    "checks = pd.read_csv(\"data/Lenta hack/20210518_checks.csv\")\n"
   ]
  },
  {
   "cell_type": "code",
   "execution_count": 3,
   "metadata": {},
   "outputs": [],
   "source": [
    "sku_merged = offers.merge(uplift, on='Offer_ID')\n",
    "sku_mean = sku_merged.groupby('sku').agg({'UpLift': 'mean'}).reset_index()\n",
    "offers_test = offers[offers['train_test_group'] == 'test']\n",
    "offers_test = offers_test.merge(sku_mean, on='sku', how='left')\n",
    "\n",
    "# Добавление среднего\n",
    "\n",
    "offers_test['UpLift'] = offers_test['UpLift'].fillna(sku_mean.mean().values[0])"
   ]
  },
  {
   "cell_type": "code",
   "execution_count": 4,
   "metadata": {},
   "outputs": [],
   "source": [
    "test_results = offers_test.groupby('Offer_ID').agg({'UpLift': 'mean'}).reset_index()"
   ]
  },
  {
   "cell_type": "code",
   "execution_count": 76,
   "metadata": {},
   "outputs": [],
   "source": [
    "sample_submission = pd.read_csv(\"data/20210521_sample_submission.csv\")"
   ]
  },
  {
   "cell_type": "code",
   "execution_count": 83,
   "metadata": {},
   "outputs": [],
   "source": [
    "out = sample_submission.drop(columns='UpLift').merge(test_results, on='Offer_ID')"
   ]
  },
  {
   "cell_type": "code",
   "execution_count": 84,
   "metadata": {},
   "outputs": [],
   "source": [
    "out.to_csv('try1.csv', index=False)"
   ]
  },
  {
   "cell_type": "code",
   "execution_count": 56,
   "metadata": {},
   "outputs": [
    {
     "data": {
      "text/html": "<div>\n<style scoped>\n    .dataframe tbody tr th:only-of-type {\n        vertical-align: middle;\n    }\n\n    .dataframe tbody tr th {\n        vertical-align: top;\n    }\n\n    .dataframe thead th {\n        text-align: right;\n    }\n</style>\n<table border=\"1\" class=\"dataframe\">\n  <thead>\n    <tr style=\"text-align: right;\">\n      <th></th>\n      <th>Promo_type</th>\n      <th>Offer_ID</th>\n      <th>sku</th>\n      <th>start_date</th>\n      <th>end_date</th>\n      <th>train_test_group</th>\n      <th>UpLift</th>\n    </tr>\n  </thead>\n  <tbody>\n    <tr>\n      <th>0</th>\n      <td>Facades</td>\n      <td>F191</td>\n      <td>e87788b585ead792a4d40f7de18f2f76</td>\n      <td>20201112</td>\n      <td>20201118</td>\n      <td>test</td>\n      <td>5.213550</td>\n    </tr>\n    <tr>\n      <th>1</th>\n      <td>Billboards</td>\n      <td>B86</td>\n      <td>cdab3403355b7fda81a1329b2f05cdec</td>\n      <td>20201029</td>\n      <td>20201111</td>\n      <td>test</td>\n      <td>14.165331</td>\n    </tr>\n    <tr>\n      <th>2</th>\n      <td>Facades</td>\n      <td>F172</td>\n      <td>723dad25536c2cf3fb4fd3f577ee2b7c</td>\n      <td>20201015</td>\n      <td>20201021</td>\n      <td>test</td>\n      <td>3.624822</td>\n    </tr>\n    <tr>\n      <th>3</th>\n      <td>Billboards</td>\n      <td>B96</td>\n      <td>9817112604594b376adf135efe787bbc</td>\n      <td>20201203</td>\n      <td>20201209</td>\n      <td>test</td>\n      <td>2.826343</td>\n    </tr>\n    <tr>\n      <th>4</th>\n      <td>Facades</td>\n      <td>F173</td>\n      <td>b8169608d99f3a31891379d394735732</td>\n      <td>20201014</td>\n      <td>20201021</td>\n      <td>test</td>\n      <td>NaN</td>\n    </tr>\n    <tr>\n      <th>...</th>\n      <td>...</td>\n      <td>...</td>\n      <td>...</td>\n      <td>...</td>\n      <td>...</td>\n      <td>...</td>\n      <td>...</td>\n    </tr>\n    <tr>\n      <th>2055</th>\n      <td>Seasonal</td>\n      <td>99</td>\n      <td>fc2fe174d3547a2d077bb94742977bdb</td>\n      <td>20201006</td>\n      <td>20201019</td>\n      <td>test</td>\n      <td>NaN</td>\n    </tr>\n    <tr>\n      <th>2056</th>\n      <td>Billboards</td>\n      <td>B140</td>\n      <td>7a8675a8f6988ebcbefd062fabaccc85</td>\n      <td>20201224</td>\n      <td>20201230</td>\n      <td>test</td>\n      <td>2.601115</td>\n    </tr>\n    <tr>\n      <th>2057</th>\n      <td>Billboards</td>\n      <td>B140</td>\n      <td>787762f7d829ce318599bf015baba175</td>\n      <td>20201224</td>\n      <td>20201230</td>\n      <td>test</td>\n      <td>0.835492</td>\n    </tr>\n    <tr>\n      <th>2058</th>\n      <td>Billboards</td>\n      <td>B140</td>\n      <td>c8ac520562ba934dd67cbf0f060c4252</td>\n      <td>20201224</td>\n      <td>20201230</td>\n      <td>test</td>\n      <td>0.843468</td>\n    </tr>\n    <tr>\n      <th>2059</th>\n      <td>Billboards</td>\n      <td>B140</td>\n      <td>5abc0869d756fa1c6831651776138baa</td>\n      <td>20201224</td>\n      <td>20201230</td>\n      <td>test</td>\n      <td>3.362899</td>\n    </tr>\n  </tbody>\n</table>\n<p>2060 rows × 7 columns</p>\n</div>",
      "text/plain": "      Promo_type Offer_ID                               sku  start_date  \\\n0        Facades     F191  e87788b585ead792a4d40f7de18f2f76    20201112   \n1     Billboards      B86  cdab3403355b7fda81a1329b2f05cdec    20201029   \n2        Facades     F172  723dad25536c2cf3fb4fd3f577ee2b7c    20201015   \n3     Billboards      B96  9817112604594b376adf135efe787bbc    20201203   \n4        Facades     F173  b8169608d99f3a31891379d394735732    20201014   \n...          ...      ...                               ...         ...   \n2055    Seasonal       99  fc2fe174d3547a2d077bb94742977bdb    20201006   \n2056  Billboards     B140  7a8675a8f6988ebcbefd062fabaccc85    20201224   \n2057  Billboards     B140  787762f7d829ce318599bf015baba175    20201224   \n2058  Billboards     B140  c8ac520562ba934dd67cbf0f060c4252    20201224   \n2059  Billboards     B140  5abc0869d756fa1c6831651776138baa    20201224   \n\n      end_date train_test_group     UpLift  \n0     20201118             test   5.213550  \n1     20201111             test  14.165331  \n2     20201021             test   3.624822  \n3     20201209             test   2.826343  \n4     20201021             test        NaN  \n...        ...              ...        ...  \n2055  20201019             test        NaN  \n2056  20201230             test   2.601115  \n2057  20201230             test   0.835492  \n2058  20201230             test   0.843468  \n2059  20201230             test   3.362899  \n\n[2060 rows x 7 columns]"
     },
     "execution_count": 56,
     "metadata": {},
     "output_type": "execute_result"
    }
   ],
   "source": [
    "offers_test.merge(sku_mean, on='sku', how='left')"
   ]
  },
  {
   "cell_type": "code",
   "execution_count": 42,
   "metadata": {},
   "outputs": [
    {
     "data": {
      "text/html": "<div>\n<style scoped>\n    .dataframe tbody tr th:only-of-type {\n        vertical-align: middle;\n    }\n\n    .dataframe tbody tr th {\n        vertical-align: top;\n    }\n\n    .dataframe thead th {\n        text-align: right;\n    }\n</style>\n<table border=\"1\" class=\"dataframe\">\n  <thead>\n    <tr style=\"text-align: right;\">\n      <th></th>\n      <th>Promo_type</th>\n      <th>Offer_ID</th>\n      <th>sku</th>\n      <th>start_date</th>\n      <th>end_date</th>\n      <th>train_test_group</th>\n    </tr>\n  </thead>\n  <tbody>\n    <tr>\n      <th>1345</th>\n      <td>Biweekly</td>\n      <td>241</td>\n      <td>ec155b6d970114030333664ad0a9d966</td>\n      <td>20200416</td>\n      <td>20200429</td>\n      <td>train</td>\n    </tr>\n    <tr>\n      <th>1526</th>\n      <td>Biweekly</td>\n      <td>241</td>\n      <td>67b703cefd7a948e0d58879ca1d0bf9b</td>\n      <td>20200416</td>\n      <td>20200429</td>\n      <td>train</td>\n    </tr>\n    <tr>\n      <th>1774</th>\n      <td>Biweekly</td>\n      <td>241</td>\n      <td>26519a5ce77a259252a1c9af08e30ce7</td>\n      <td>20200416</td>\n      <td>20200429</td>\n      <td>train</td>\n    </tr>\n    <tr>\n      <th>1911</th>\n      <td>Biweekly</td>\n      <td>241</td>\n      <td>55d15801290453db237f3107a1534b75</td>\n      <td>20200416</td>\n      <td>20200429</td>\n      <td>train</td>\n    </tr>\n  </tbody>\n</table>\n</div>",
      "text/plain": "     Promo_type Offer_ID                               sku  start_date  \\\n1345   Biweekly      241  ec155b6d970114030333664ad0a9d966    20200416   \n1526   Biweekly      241  67b703cefd7a948e0d58879ca1d0bf9b    20200416   \n1774   Biweekly      241  26519a5ce77a259252a1c9af08e30ce7    20200416   \n1911   Biweekly      241  55d15801290453db237f3107a1534b75    20200416   \n\n      end_date train_test_group  \n1345  20200429            train  \n1526  20200429            train  \n1774  20200429            train  \n1911  20200429            train  "
     },
     "execution_count": 42,
     "metadata": {},
     "output_type": "execute_result"
    }
   ],
   "source": [
    "offers[offers['Offer_ID'] == '241']"
   ]
  },
  {
   "cell_type": "code",
   "execution_count": 16,
   "metadata": {},
   "outputs": [
    {
     "data": {
      "text/plain": "0        29285fb39582e5a63c14026198c6ad51\n1        f31d0af494b191ef2bc8395db9c8366f\n2        49edad6669ba09dffbf278b76c53cd9d\n3        c5c632eb0f93a233ef6db2620a464ea0\n4        9d0c7880f16c7748e1e992b28655c67f\n                       ...               \n80401    33d0eb46ca492585ccf3ba2bcc19ed30\n80402    bb47f5bc8df7b92ae0600c7d85a567fd\n80403    e9311b17cd22904c2d6fee2e3c8b6d5f\n80404    15cafb345d5e95b3ae83f2cbb87e0f72\n80405    7bda33b7e9d73cd44599a25411fe9ade\nName: sku, Length: 80406, dtype: object"
     },
     "execution_count": 16,
     "metadata": {},
     "output_type": "execute_result"
    }
   ],
   "source": [
    "hierarchy['sku']"
   ]
  },
  {
   "cell_type": "code",
   "execution_count": 24,
   "metadata": {},
   "outputs": [
    {
     "data": {
      "text/html": "<div>\n<style scoped>\n    .dataframe tbody tr th:only-of-type {\n        vertical-align: middle;\n    }\n\n    .dataframe tbody tr th {\n        vertical-align: top;\n    }\n\n    .dataframe thead th {\n        text-align: right;\n    }\n</style>\n<table border=\"1\" class=\"dataframe\">\n  <thead>\n    <tr style=\"text-align: right;\">\n      <th></th>\n      <th>client_id</th>\n      <th>day</th>\n      <th>shop_id</th>\n      <th>check_id</th>\n      <th>time</th>\n      <th>sku</th>\n      <th>promo_id</th>\n      <th>check_pos</th>\n      <th>num_sales</th>\n      <th>supplier_price</th>\n      <th>selling_price</th>\n      <th>region_name</th>\n    </tr>\n  </thead>\n  <tbody>\n    <tr>\n      <th>0</th>\n      <td>d9da50b77962ad6401d0527db5b65b04</td>\n      <td>20191230</td>\n      <td>25bbdcd06c32d477f7fa1c3e4a91b032</td>\n      <td>c0b3f9c2215f924e27a6039617999c60</td>\n      <td>07:28:39</td>\n      <td>b17c870027bb4a22e3aedb971bc00def</td>\n      <td>b3deb0286313f0b888c0eac49580cc23</td>\n      <td>1</td>\n      <td>5.0</td>\n      <td>133.40</td>\n      <td>249.45</td>\n      <td>152f1b77a32508570e2745daf9ce7aec</td>\n    </tr>\n    <tr>\n      <th>1</th>\n      <td>d9da50b77962ad6401d0527db5b65b04</td>\n      <td>20191230</td>\n      <td>25bbdcd06c32d477f7fa1c3e4a91b032</td>\n      <td>c0b3f9c2215f924e27a6039617999c60</td>\n      <td>07:28:39</td>\n      <td>b9ef00e971d0fb459a765708efba70c0</td>\n      <td>680a96609351230ed00e1d1090371cbc</td>\n      <td>2</td>\n      <td>1.0</td>\n      <td>96.77</td>\n      <td>118.99</td>\n      <td>152f1b77a32508570e2745daf9ce7aec</td>\n    </tr>\n    <tr>\n      <th>2</th>\n      <td>d9da50b77962ad6401d0527db5b65b04</td>\n      <td>20191230</td>\n      <td>25bbdcd06c32d477f7fa1c3e4a91b032</td>\n      <td>c0b3f9c2215f924e27a6039617999c60</td>\n      <td>07:28:39</td>\n      <td>b75147feae4cf8ec07fb5f2cef855def</td>\n      <td>7215ee9c7d9dc229d2921a40e899ec5f</td>\n      <td>5</td>\n      <td>2.0</td>\n      <td>2.34</td>\n      <td>7.58</td>\n      <td>152f1b77a32508570e2745daf9ce7aec</td>\n    </tr>\n    <tr>\n      <th>3</th>\n      <td>d9da50b77962ad6401d0527db5b65b04</td>\n      <td>20191230</td>\n      <td>25bbdcd06c32d477f7fa1c3e4a91b032</td>\n      <td>c0b3f9c2215f924e27a6039617999c60</td>\n      <td>07:28:39</td>\n      <td>b25e0d42165d246d23cbf4d3efcdf583</td>\n      <td>7215ee9c7d9dc229d2921a40e899ec5f</td>\n      <td>4</td>\n      <td>1.0</td>\n      <td>23.59</td>\n      <td>39.99</td>\n      <td>152f1b77a32508570e2745daf9ce7aec</td>\n    </tr>\n    <tr>\n      <th>4</th>\n      <td>d9da50b77962ad6401d0527db5b65b04</td>\n      <td>20191230</td>\n      <td>25bbdcd06c32d477f7fa1c3e4a91b032</td>\n      <td>c0b3f9c2215f924e27a6039617999c60</td>\n      <td>07:28:39</td>\n      <td>a537d2eef30d47f9b11d655421ca93fb</td>\n      <td>05c93d4fa9bdbe70b5d2204ce9548ca9</td>\n      <td>3</td>\n      <td>1.0</td>\n      <td>24.02</td>\n      <td>39.99</td>\n      <td>152f1b77a32508570e2745daf9ce7aec</td>\n    </tr>\n    <tr>\n      <th>...</th>\n      <td>...</td>\n      <td>...</td>\n      <td>...</td>\n      <td>...</td>\n      <td>...</td>\n      <td>...</td>\n      <td>...</td>\n      <td>...</td>\n      <td>...</td>\n      <td>...</td>\n      <td>...</td>\n      <td>...</td>\n    </tr>\n    <tr>\n      <th>21479254</th>\n      <td>128bfb96146f0772ce9ce35365b5b402</td>\n      <td>20200101</td>\n      <td>087c8abfaee44ebbf0c2871976a2ab18</td>\n      <td>ac8cc7468ed294fcecebdcfa00d4280f</td>\n      <td>21:10:08</td>\n      <td>dc155ba1e8a3c759bcf2f358384ba9cd</td>\n      <td>f1b40313f0dc51fde3fe2cc7bc2b987f</td>\n      <td>10</td>\n      <td>1.0</td>\n      <td>63.63</td>\n      <td>99.89</td>\n      <td>7e35e74e610188414ad24235dd787c78</td>\n    </tr>\n    <tr>\n      <th>21479255</th>\n      <td>128bfb96146f0772ce9ce35365b5b402</td>\n      <td>20200101</td>\n      <td>087c8abfaee44ebbf0c2871976a2ab18</td>\n      <td>ac8cc7468ed294fcecebdcfa00d4280f</td>\n      <td>21:10:08</td>\n      <td>305d39a0a0af37b5436e8a3ff3e9d319</td>\n      <td>357f92d49be136644805a94cdbeb462a</td>\n      <td>6</td>\n      <td>1.0</td>\n      <td>185.70</td>\n      <td>298.99</td>\n      <td>7e35e74e610188414ad24235dd787c78</td>\n    </tr>\n    <tr>\n      <th>21479256</th>\n      <td>128bfb96146f0772ce9ce35365b5b402</td>\n      <td>20200101</td>\n      <td>087c8abfaee44ebbf0c2871976a2ab18</td>\n      <td>ac8cc7468ed294fcecebdcfa00d4280f</td>\n      <td>21:10:08</td>\n      <td>b75147feae4cf8ec07fb5f2cef855def</td>\n      <td>7215ee9c7d9dc229d2921a40e899ec5f</td>\n      <td>2</td>\n      <td>1.0</td>\n      <td>1.14</td>\n      <td>3.49</td>\n      <td>7e35e74e610188414ad24235dd787c78</td>\n    </tr>\n    <tr>\n      <th>21479257</th>\n      <td>128bfb96146f0772ce9ce35365b5b402</td>\n      <td>20200101</td>\n      <td>087c8abfaee44ebbf0c2871976a2ab18</td>\n      <td>ac8cc7468ed294fcecebdcfa00d4280f</td>\n      <td>21:10:08</td>\n      <td>6540ad4c3e0b21d5a804b692dda6fe66</td>\n      <td>7215ee9c7d9dc229d2921a40e899ec5f</td>\n      <td>4</td>\n      <td>1.0</td>\n      <td>37.63</td>\n      <td>74.99</td>\n      <td>7e35e74e610188414ad24235dd787c78</td>\n    </tr>\n    <tr>\n      <th>21479258</th>\n      <td>128bfb96146f0772ce9ce35365b5b402</td>\n      <td>20200101</td>\n      <td>087c8abfaee44ebbf0c2871976a2ab18</td>\n      <td>ac8cc7468ed294fcecebdcfa00d4280f</td>\n      <td>21:10:08</td>\n      <td>dc155ba1e8a3c759bcf2f358384ba9cd</td>\n      <td>f1b40313f0dc51fde3fe2cc7bc2b987f</td>\n      <td>9</td>\n      <td>1.0</td>\n      <td>63.63</td>\n      <td>99.89</td>\n      <td>7e35e74e610188414ad24235dd787c78</td>\n    </tr>\n  </tbody>\n</table>\n<p>21479259 rows × 12 columns</p>\n</div>",
      "text/plain": "                                 client_id       day  \\\n0         d9da50b77962ad6401d0527db5b65b04  20191230   \n1         d9da50b77962ad6401d0527db5b65b04  20191230   \n2         d9da50b77962ad6401d0527db5b65b04  20191230   \n3         d9da50b77962ad6401d0527db5b65b04  20191230   \n4         d9da50b77962ad6401d0527db5b65b04  20191230   \n...                                    ...       ...   \n21479254  128bfb96146f0772ce9ce35365b5b402  20200101   \n21479255  128bfb96146f0772ce9ce35365b5b402  20200101   \n21479256  128bfb96146f0772ce9ce35365b5b402  20200101   \n21479257  128bfb96146f0772ce9ce35365b5b402  20200101   \n21479258  128bfb96146f0772ce9ce35365b5b402  20200101   \n\n                                   shop_id                          check_id  \\\n0         25bbdcd06c32d477f7fa1c3e4a91b032  c0b3f9c2215f924e27a6039617999c60   \n1         25bbdcd06c32d477f7fa1c3e4a91b032  c0b3f9c2215f924e27a6039617999c60   \n2         25bbdcd06c32d477f7fa1c3e4a91b032  c0b3f9c2215f924e27a6039617999c60   \n3         25bbdcd06c32d477f7fa1c3e4a91b032  c0b3f9c2215f924e27a6039617999c60   \n4         25bbdcd06c32d477f7fa1c3e4a91b032  c0b3f9c2215f924e27a6039617999c60   \n...                                    ...                               ...   \n21479254  087c8abfaee44ebbf0c2871976a2ab18  ac8cc7468ed294fcecebdcfa00d4280f   \n21479255  087c8abfaee44ebbf0c2871976a2ab18  ac8cc7468ed294fcecebdcfa00d4280f   \n21479256  087c8abfaee44ebbf0c2871976a2ab18  ac8cc7468ed294fcecebdcfa00d4280f   \n21479257  087c8abfaee44ebbf0c2871976a2ab18  ac8cc7468ed294fcecebdcfa00d4280f   \n21479258  087c8abfaee44ebbf0c2871976a2ab18  ac8cc7468ed294fcecebdcfa00d4280f   \n\n              time                               sku  \\\n0         07:28:39  b17c870027bb4a22e3aedb971bc00def   \n1         07:28:39  b9ef00e971d0fb459a765708efba70c0   \n2         07:28:39  b75147feae4cf8ec07fb5f2cef855def   \n3         07:28:39  b25e0d42165d246d23cbf4d3efcdf583   \n4         07:28:39  a537d2eef30d47f9b11d655421ca93fb   \n...            ...                               ...   \n21479254  21:10:08  dc155ba1e8a3c759bcf2f358384ba9cd   \n21479255  21:10:08  305d39a0a0af37b5436e8a3ff3e9d319   \n21479256  21:10:08  b75147feae4cf8ec07fb5f2cef855def   \n21479257  21:10:08  6540ad4c3e0b21d5a804b692dda6fe66   \n21479258  21:10:08  dc155ba1e8a3c759bcf2f358384ba9cd   \n\n                                  promo_id  check_pos  num_sales  \\\n0         b3deb0286313f0b888c0eac49580cc23          1        5.0   \n1         680a96609351230ed00e1d1090371cbc          2        1.0   \n2         7215ee9c7d9dc229d2921a40e899ec5f          5        2.0   \n3         7215ee9c7d9dc229d2921a40e899ec5f          4        1.0   \n4         05c93d4fa9bdbe70b5d2204ce9548ca9          3        1.0   \n...                                    ...        ...        ...   \n21479254  f1b40313f0dc51fde3fe2cc7bc2b987f         10        1.0   \n21479255  357f92d49be136644805a94cdbeb462a          6        1.0   \n21479256  7215ee9c7d9dc229d2921a40e899ec5f          2        1.0   \n21479257  7215ee9c7d9dc229d2921a40e899ec5f          4        1.0   \n21479258  f1b40313f0dc51fde3fe2cc7bc2b987f          9        1.0   \n\n          supplier_price  selling_price                       region_name  \n0                 133.40         249.45  152f1b77a32508570e2745daf9ce7aec  \n1                  96.77         118.99  152f1b77a32508570e2745daf9ce7aec  \n2                   2.34           7.58  152f1b77a32508570e2745daf9ce7aec  \n3                  23.59          39.99  152f1b77a32508570e2745daf9ce7aec  \n4                  24.02          39.99  152f1b77a32508570e2745daf9ce7aec  \n...                  ...            ...                               ...  \n21479254           63.63          99.89  7e35e74e610188414ad24235dd787c78  \n21479255          185.70         298.99  7e35e74e610188414ad24235dd787c78  \n21479256            1.14           3.49  7e35e74e610188414ad24235dd787c78  \n21479257           37.63          74.99  7e35e74e610188414ad24235dd787c78  \n21479258           63.63          99.89  7e35e74e610188414ad24235dd787c78  \n\n[21479259 rows x 12 columns]"
     },
     "execution_count": 24,
     "metadata": {},
     "output_type": "execute_result"
    }
   ],
   "source": [
    "checks"
   ]
  },
  {
   "cell_type": "code",
   "execution_count": 37,
   "metadata": {},
   "outputs": [
    {
     "data": {
      "text/plain": "0"
     },
     "execution_count": 37,
     "metadata": {},
     "output_type": "execute_result"
    }
   ],
   "source": [
    "sum(checks['promo_id'].isna())"
   ]
  },
  {
   "cell_type": "code",
   "execution_count": 38,
   "metadata": {},
   "outputs": [
    {
     "data": {
      "text/plain": "0"
     },
     "execution_count": 38,
     "metadata": {},
     "output_type": "execute_result"
    }
   ],
   "source": [
    "sum(checks['promo_id'].isnull())"
   ]
  },
  {
   "cell_type": "code",
   "execution_count": 39,
   "metadata": {},
   "outputs": [
    {
     "data": {
      "text/plain": "0"
     },
     "execution_count": 39,
     "metadata": {},
     "output_type": "execute_result"
    }
   ],
   "source": [
    "sum(checks['promo_id'].str.upper().str.strip() == 'NULL')"
   ]
  },
  {
   "cell_type": "code",
   "execution_count": 40,
   "metadata": {},
   "outputs": [
    {
     "data": {
      "text/plain": "7215ee9c7d9dc229d2921a40e899ec5f    10881653\nc4c67f412855bab90c566139cb2b3d83      182037\n47b5739208ae99fe23f06fedb3ee8ea7       74030\nd9ca24d75e5cecc5a01c452cc8b8288e       72601\n7071bf06286a55deac8fa9619ae3517a       71467\n                                      ...   \neec4c4f09484b439d9a669c18865aca5           1\na13ab7a9ce5171842484e7bc81a40b92           1\n46184fda287d37ffbae0f34238e2b3b2           1\n1a9bedf13426d6b8bf4a08874db49603           1\naf42a91d79f23df7744975adbd8aa49a           1\nName: promo_id, Length: 176939, dtype: int64"
     },
     "execution_count": 40,
     "metadata": {},
     "output_type": "execute_result"
    }
   ],
   "source": [
    "checks['promo_id'].value_counts()"
   ]
  },
  {
   "cell_type": "markdown",
   "metadata": {},
   "source": [
    "# Optimization"
   ]
  },
  {
   "cell_type": "code",
   "execution_count": 3,
   "metadata": {},
   "outputs": [],
   "source": [
    "import pyomo.environ as pyo\n",
    "from pyomo.opt import SolverFactory\n",
    "import pandas as pd\n",
    "import datetime"
   ]
  },
  {
   "cell_type": "code",
   "execution_count": 4,
   "metadata": {},
   "outputs": [],
   "source": [
    "# Входные данные\n",
    "WEEK_START = 0\n",
    "WEEK_FINISH = datetime.date(2021, 3, 31).isocalendar().week\n",
    "\n",
    "MAX_SIMULT_PROMO = 100\n",
    "MAX_PROMO_FOR_PERIOD = 1\n",
    "\n",
    "# Пути выводы\n",
    "SOLVE_LOG = 'SOLVE_LOG.txt'\n",
    "SOLNFILE = 'SOLNFILE.txt'\n",
    "\n",
    "# Создание сущностей\n",
    "WEEKS = range(WEEK_START, WEEK_FINISH)\n",
    "SKUS = hierarchy['sku'].unique()\n",
    "\n",
    "# Создание конкретной модели pyomo\n",
    "model = pyo.ConcreteModel()\n",
    "\n",
    "# Переменные\n",
    "model.promo = pyo.Var(SKUS, WEEKS, within=pyo.Binary, initialize = 0)\n",
    "\n",
    "#Ограничения\n",
    "\n",
    "# Одновременно не более MAX_SIMULT_PROMO акций\n",
    "def con_max_simult_promo(model, week):\n",
    "    return sum([model.promo[s, week] for s in SKUS]) <= MAX_SIMULT_PROMO\n",
    "\n",
    "model.con_max_simult_promo = pyo.Constraint(WEEKS, rule = con_max_simult_promo)\n",
    "\n",
    "# Одновременно не более MAX_SIMULT_PROMO акций\n",
    "def con_max_promo_period(model, sku):\n",
    "    return sum([model.promo[sku, w] for w in WEEKS]) <= MAX_PROMO_FOR_PERIOD\n",
    "\n",
    "model.con_max_promo_period = pyo.Constraint(SKUS, rule = con_max_promo_period)\n",
    "\n",
    "# Целевая\n",
    "model.OBJ = pyo.Objective(expr = sum(model.promo[s, w] for w in WEEKS for s in SKUS))\n",
    "\n",
    "opt = SolverFactory(\"cbc\", options={'TimeLimit': 60})\n",
    "instance = model\n",
    "results = opt.solve(instance, logfile=SOLVE_LOG, solnfile=SOLNFILE)"
   ]
  },
  {
   "cell_type": "code",
   "execution_count": null,
   "metadata": {},
   "outputs": [],
   "source": []
  }
 ]
}